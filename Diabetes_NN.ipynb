{
  "cells": [
    {
      "cell_type": "markdown",
      "metadata": {
        "id": "view-in-github",
        "colab_type": "text"
      },
      "source": [
        "<a href=\"https://colab.research.google.com/github/HAYVITA/CV-Version1/blob/main/Diabetes_NN.ipynb\" target=\"_parent\"><img src=\"https://colab.research.google.com/assets/colab-badge.svg\" alt=\"Open In Colab\"/></a>"
      ]
    },
    {
      "cell_type": "code",
      "execution_count": 3,
      "metadata": {
        "colab": {
          "base_uri": "https://localhost:8080/"
        },
        "id": "PVO_CmEdJP-s",
        "outputId": "98d678d7-a2dd-4241-a151-058b5b7ab248"
      },
      "outputs": [
        {
          "output_type": "stream",
          "name": "stdout",
          "text": [
            "3.10.12 (main, Jun 11 2023, 05:26:28) [GCC 11.4.0]\n"
          ]
        }
      ],
      "source": [
        "import sys\n",
        "print(sys.version)"
      ]
    },
    {
      "cell_type": "code",
      "execution_count": 4,
      "metadata": {
        "id": "u3TZzOyYJP-v"
      },
      "outputs": [],
      "source": [
        "#Keras = To build a NN\n",
        "#tensorflow = C++"
      ]
    },
    {
      "cell_type": "code",
      "execution_count": 5,
      "metadata": {
        "colab": {
          "base_uri": "https://localhost:8080/"
        },
        "id": "lwS8A51wJP-v",
        "outputId": "3586005a-f67c-472e-aba2-223a4f918f5d"
      },
      "outputs": [
        {
          "output_type": "stream",
          "name": "stdout",
          "text": [
            "2.13.0\n"
          ]
        }
      ],
      "source": [
        "import tensorflow as tf\n",
        "print(tf.__version__)"
      ]
    },
    {
      "cell_type": "code",
      "execution_count": 6,
      "metadata": {
        "id": "7GYpXINyJP-v"
      },
      "outputs": [],
      "source": [
        "import numpy as np\n",
        "from numpy import loadtxt"
      ]
    },
    {
      "cell_type": "code",
      "execution_count": 7,
      "metadata": {
        "id": "jS64uDnEJP-v"
      },
      "outputs": [],
      "source": [
        "data=loadtxt('diabetesclean.csv',delimiter=',') #read the dataset"
      ]
    },
    {
      "cell_type": "code",
      "execution_count": 8,
      "metadata": {
        "colab": {
          "base_uri": "https://localhost:8080/"
        },
        "id": "9xhf34NpJP-w",
        "outputId": "d060b333-cc21-4c7a-b498-12a28fcd5fa7"
      },
      "outputs": [
        {
          "output_type": "execute_result",
          "data": {
            "text/plain": [
              "(768, 9)"
            ]
          },
          "metadata": {},
          "execution_count": 8
        }
      ],
      "source": [
        "data.shape"
      ]
    },
    {
      "cell_type": "code",
      "execution_count": 9,
      "metadata": {
        "id": "HK7Qlnj1JP-w"
      },
      "outputs": [],
      "source": [
        "x = data[:,0:8] #DATA\n",
        "y = data[:,8] #Label"
      ]
    },
    {
      "cell_type": "code",
      "execution_count": 10,
      "metadata": {
        "id": "m_OqiuhdJP-w"
      },
      "outputs": [],
      "source": [
        "from sklearn.model_selection import train_test_split"
      ]
    },
    {
      "cell_type": "code",
      "execution_count": 12,
      "metadata": {
        "id": "VwHvzT4rJP-w"
      },
      "outputs": [],
      "source": [
        "xtrain, xtest, ytrain, ytest = train_test_split(x,y,test_size=0.2)"
      ]
    },
    {
      "cell_type": "code",
      "execution_count": 13,
      "metadata": {
        "id": "ZZprOHyHJP-w"
      },
      "outputs": [],
      "source": [
        "from keras.models import Sequential\n",
        "from keras.layers import Dense"
      ]
    },
    {
      "cell_type": "code",
      "execution_count": 14,
      "metadata": {
        "id": "U1Uqyg3zJP-x"
      },
      "outputs": [],
      "source": [
        "model=Sequential()"
      ]
    },
    {
      "cell_type": "code",
      "execution_count": 15,
      "metadata": {
        "id": "hXRSSsXdJP-x"
      },
      "outputs": [],
      "source": [
        "model.add(Dense(8,input_dim=8,activation='relu')) #INPUT N\n",
        "model.add(Dense(8,activation='relu'))#hidden layer\n",
        "model.add(Dense(1,activation='sigmoid'))  #softmax #output"
      ]
    },
    {
      "cell_type": "code",
      "execution_count": 16,
      "metadata": {
        "id": "HCQGBWhWJP-x"
      },
      "outputs": [],
      "source": [
        "model.compile(loss='binary_crossentropy',optimizer='adam',metrics=['accuracy'])"
      ]
    },
    {
      "cell_type": "code",
      "execution_count": 17,
      "metadata": {
        "scrolled": false,
        "colab": {
          "base_uri": "https://localhost:8080/"
        },
        "id": "PrpSaFlgJP-x",
        "outputId": "d61b6c8c-24a2-49fb-a105-8dc12ba84a1a"
      },
      "outputs": [
        {
          "output_type": "stream",
          "name": "stdout",
          "text": [
            "Epoch 1/150\n",
            "15/15 [==============================] - 2s 3ms/step - loss: 5.6729 - accuracy: 0.6189\n",
            "Epoch 2/150\n",
            "15/15 [==============================] - 0s 3ms/step - loss: 3.4156 - accuracy: 0.6075\n",
            "Epoch 3/150\n",
            "15/15 [==============================] - 0s 3ms/step - loss: 2.2901 - accuracy: 0.5684\n",
            "Epoch 4/150\n",
            "15/15 [==============================] - 0s 3ms/step - loss: 1.6997 - accuracy: 0.5244\n",
            "Epoch 5/150\n",
            "15/15 [==============================] - 0s 3ms/step - loss: 1.3558 - accuracy: 0.5342\n",
            "Epoch 6/150\n",
            "15/15 [==============================] - 0s 3ms/step - loss: 1.1436 - accuracy: 0.5440\n",
            "Epoch 7/150\n",
            "15/15 [==============================] - 0s 2ms/step - loss: 0.9824 - accuracy: 0.5440\n",
            "Epoch 8/150\n",
            "15/15 [==============================] - 0s 3ms/step - loss: 0.8712 - accuracy: 0.5537\n",
            "Epoch 9/150\n",
            "15/15 [==============================] - 0s 3ms/step - loss: 0.8140 - accuracy: 0.5717\n",
            "Epoch 10/150\n",
            "15/15 [==============================] - 0s 3ms/step - loss: 0.7816 - accuracy: 0.5798\n",
            "Epoch 11/150\n",
            "15/15 [==============================] - 0s 3ms/step - loss: 0.7480 - accuracy: 0.6042\n",
            "Epoch 12/150\n",
            "15/15 [==============================] - 0s 3ms/step - loss: 0.7268 - accuracy: 0.6189\n",
            "Epoch 13/150\n",
            "15/15 [==============================] - 0s 3ms/step - loss: 0.7064 - accuracy: 0.6417\n",
            "Epoch 14/150\n",
            "15/15 [==============================] - 0s 3ms/step - loss: 0.6995 - accuracy: 0.6450\n",
            "Epoch 15/150\n",
            "15/15 [==============================] - 0s 3ms/step - loss: 0.6934 - accuracy: 0.6401\n",
            "Epoch 16/150\n",
            "15/15 [==============================] - 0s 3ms/step - loss: 0.6872 - accuracy: 0.6401\n",
            "Epoch 17/150\n",
            "15/15 [==============================] - 0s 2ms/step - loss: 0.6835 - accuracy: 0.6433\n",
            "Epoch 18/150\n",
            "15/15 [==============================] - 0s 3ms/step - loss: 0.6794 - accuracy: 0.6498\n",
            "Epoch 19/150\n",
            "15/15 [==============================] - 0s 3ms/step - loss: 0.6781 - accuracy: 0.6547\n",
            "Epoch 20/150\n",
            "15/15 [==============================] - 0s 2ms/step - loss: 0.6732 - accuracy: 0.6482\n",
            "Epoch 21/150\n",
            "15/15 [==============================] - 0s 3ms/step - loss: 0.6717 - accuracy: 0.6498\n",
            "Epoch 22/150\n",
            "15/15 [==============================] - 0s 2ms/step - loss: 0.6711 - accuracy: 0.6531\n",
            "Epoch 23/150\n",
            "15/15 [==============================] - 0s 2ms/step - loss: 0.6703 - accuracy: 0.6515\n",
            "Epoch 24/150\n",
            "15/15 [==============================] - 0s 2ms/step - loss: 0.6668 - accuracy: 0.6515\n",
            "Epoch 25/150\n",
            "15/15 [==============================] - 0s 3ms/step - loss: 0.6686 - accuracy: 0.6515\n",
            "Epoch 26/150\n",
            "15/15 [==============================] - 0s 3ms/step - loss: 0.6676 - accuracy: 0.6564\n",
            "Epoch 27/150\n",
            "15/15 [==============================] - 0s 4ms/step - loss: 0.6685 - accuracy: 0.6564\n",
            "Epoch 28/150\n",
            "15/15 [==============================] - 0s 3ms/step - loss: 0.6677 - accuracy: 0.6515\n",
            "Epoch 29/150\n",
            "15/15 [==============================] - 0s 3ms/step - loss: 0.6658 - accuracy: 0.6547\n",
            "Epoch 30/150\n",
            "15/15 [==============================] - 0s 4ms/step - loss: 0.6647 - accuracy: 0.6515\n",
            "Epoch 31/150\n",
            "15/15 [==============================] - 0s 4ms/step - loss: 0.6644 - accuracy: 0.6564\n",
            "Epoch 32/150\n",
            "15/15 [==============================] - 0s 4ms/step - loss: 0.6648 - accuracy: 0.6547\n",
            "Epoch 33/150\n",
            "15/15 [==============================] - 0s 3ms/step - loss: 0.6637 - accuracy: 0.6564\n",
            "Epoch 34/150\n",
            "15/15 [==============================] - 0s 3ms/step - loss: 0.6613 - accuracy: 0.6564\n",
            "Epoch 35/150\n",
            "15/15 [==============================] - 0s 3ms/step - loss: 0.6616 - accuracy: 0.6547\n",
            "Epoch 36/150\n",
            "15/15 [==============================] - 0s 3ms/step - loss: 0.6629 - accuracy: 0.6547\n",
            "Epoch 37/150\n",
            "15/15 [==============================] - 0s 5ms/step - loss: 0.6611 - accuracy: 0.6547\n",
            "Epoch 38/150\n",
            "15/15 [==============================] - 0s 4ms/step - loss: 0.6609 - accuracy: 0.6564\n",
            "Epoch 39/150\n",
            "15/15 [==============================] - 0s 3ms/step - loss: 0.6578 - accuracy: 0.6564\n",
            "Epoch 40/150\n",
            "15/15 [==============================] - 0s 3ms/step - loss: 0.6584 - accuracy: 0.6564\n",
            "Epoch 41/150\n",
            "15/15 [==============================] - 0s 3ms/step - loss: 0.6566 - accuracy: 0.6564\n",
            "Epoch 42/150\n",
            "15/15 [==============================] - 0s 3ms/step - loss: 0.6580 - accuracy: 0.6564\n",
            "Epoch 43/150\n",
            "15/15 [==============================] - 0s 4ms/step - loss: 0.6564 - accuracy: 0.6580\n",
            "Epoch 44/150\n",
            "15/15 [==============================] - 0s 3ms/step - loss: 0.6551 - accuracy: 0.6564\n",
            "Epoch 45/150\n",
            "15/15 [==============================] - 0s 4ms/step - loss: 0.6549 - accuracy: 0.6547\n",
            "Epoch 46/150\n",
            "15/15 [==============================] - 0s 5ms/step - loss: 0.6540 - accuracy: 0.6596\n",
            "Epoch 47/150\n",
            "15/15 [==============================] - 0s 3ms/step - loss: 0.6541 - accuracy: 0.6596\n",
            "Epoch 48/150\n",
            "15/15 [==============================] - 0s 3ms/step - loss: 0.6532 - accuracy: 0.6596\n",
            "Epoch 49/150\n",
            "15/15 [==============================] - 0s 3ms/step - loss: 0.6519 - accuracy: 0.6612\n",
            "Epoch 50/150\n",
            "15/15 [==============================] - 0s 3ms/step - loss: 0.6515 - accuracy: 0.6612\n",
            "Epoch 51/150\n",
            "15/15 [==============================] - 0s 3ms/step - loss: 0.6513 - accuracy: 0.6596\n",
            "Epoch 52/150\n",
            "15/15 [==============================] - 0s 4ms/step - loss: 0.6501 - accuracy: 0.6612\n",
            "Epoch 53/150\n",
            "15/15 [==============================] - 0s 4ms/step - loss: 0.6505 - accuracy: 0.6596\n",
            "Epoch 54/150\n",
            "15/15 [==============================] - 0s 3ms/step - loss: 0.6505 - accuracy: 0.6596\n",
            "Epoch 55/150\n",
            "15/15 [==============================] - 0s 3ms/step - loss: 0.6496 - accuracy: 0.6596\n",
            "Epoch 56/150\n",
            "15/15 [==============================] - 0s 4ms/step - loss: 0.6498 - accuracy: 0.6580\n",
            "Epoch 57/150\n",
            "15/15 [==============================] - 0s 4ms/step - loss: 0.6475 - accuracy: 0.6645\n",
            "Epoch 58/150\n",
            "15/15 [==============================] - 0s 3ms/step - loss: 0.6457 - accuracy: 0.6645\n",
            "Epoch 59/150\n",
            "15/15 [==============================] - 0s 4ms/step - loss: 0.6474 - accuracy: 0.6678\n",
            "Epoch 60/150\n",
            "15/15 [==============================] - 0s 4ms/step - loss: 0.6460 - accuracy: 0.6678\n",
            "Epoch 61/150\n",
            "15/15 [==============================] - 0s 4ms/step - loss: 0.6444 - accuracy: 0.6661\n",
            "Epoch 62/150\n",
            "15/15 [==============================] - 0s 4ms/step - loss: 0.6448 - accuracy: 0.6661\n",
            "Epoch 63/150\n",
            "15/15 [==============================] - 0s 3ms/step - loss: 0.6421 - accuracy: 0.6678\n",
            "Epoch 64/150\n",
            "15/15 [==============================] - 0s 3ms/step - loss: 0.6431 - accuracy: 0.6661\n",
            "Epoch 65/150\n",
            "15/15 [==============================] - 0s 4ms/step - loss: 0.6415 - accuracy: 0.6661\n",
            "Epoch 66/150\n",
            "15/15 [==============================] - 0s 4ms/step - loss: 0.6413 - accuracy: 0.6678\n",
            "Epoch 67/150\n",
            "15/15 [==============================] - 0s 4ms/step - loss: 0.6398 - accuracy: 0.6678\n",
            "Epoch 68/150\n",
            "15/15 [==============================] - 0s 3ms/step - loss: 0.6396 - accuracy: 0.6678\n",
            "Epoch 69/150\n",
            "15/15 [==============================] - 0s 4ms/step - loss: 0.6398 - accuracy: 0.6661\n",
            "Epoch 70/150\n",
            "15/15 [==============================] - 0s 4ms/step - loss: 0.6394 - accuracy: 0.6645\n",
            "Epoch 71/150\n",
            "15/15 [==============================] - 0s 4ms/step - loss: 0.6383 - accuracy: 0.6678\n",
            "Epoch 72/150\n",
            "15/15 [==============================] - 0s 4ms/step - loss: 0.6400 - accuracy: 0.6678\n",
            "Epoch 73/150\n",
            "15/15 [==============================] - 0s 4ms/step - loss: 0.6375 - accuracy: 0.6678\n",
            "Epoch 74/150\n",
            "15/15 [==============================] - 0s 4ms/step - loss: 0.6370 - accuracy: 0.6678\n",
            "Epoch 75/150\n",
            "15/15 [==============================] - 0s 3ms/step - loss: 0.6362 - accuracy: 0.6661\n",
            "Epoch 76/150\n",
            "15/15 [==============================] - 0s 4ms/step - loss: 0.6361 - accuracy: 0.6661\n",
            "Epoch 77/150\n",
            "15/15 [==============================] - 0s 3ms/step - loss: 0.6351 - accuracy: 0.6678\n",
            "Epoch 78/150\n",
            "15/15 [==============================] - 0s 4ms/step - loss: 0.6352 - accuracy: 0.6661\n",
            "Epoch 79/150\n",
            "15/15 [==============================] - 0s 3ms/step - loss: 0.6346 - accuracy: 0.6661\n",
            "Epoch 80/150\n",
            "15/15 [==============================] - 0s 3ms/step - loss: 0.6338 - accuracy: 0.6645\n",
            "Epoch 81/150\n",
            "15/15 [==============================] - 0s 2ms/step - loss: 0.6336 - accuracy: 0.6661\n",
            "Epoch 82/150\n",
            "15/15 [==============================] - 0s 3ms/step - loss: 0.6337 - accuracy: 0.6661\n",
            "Epoch 83/150\n",
            "15/15 [==============================] - 0s 2ms/step - loss: 0.6342 - accuracy: 0.6661\n",
            "Epoch 84/150\n",
            "15/15 [==============================] - 0s 3ms/step - loss: 0.6320 - accuracy: 0.6661\n",
            "Epoch 85/150\n",
            "15/15 [==============================] - 0s 2ms/step - loss: 0.6312 - accuracy: 0.6661\n",
            "Epoch 86/150\n",
            "15/15 [==============================] - 0s 2ms/step - loss: 0.6311 - accuracy: 0.6661\n",
            "Epoch 87/150\n",
            "15/15 [==============================] - 0s 2ms/step - loss: 0.6306 - accuracy: 0.6678\n",
            "Epoch 88/150\n",
            "15/15 [==============================] - 0s 2ms/step - loss: 0.6306 - accuracy: 0.6661\n",
            "Epoch 89/150\n",
            "15/15 [==============================] - 0s 2ms/step - loss: 0.6303 - accuracy: 0.6661\n",
            "Epoch 90/150\n",
            "15/15 [==============================] - 0s 2ms/step - loss: 0.6293 - accuracy: 0.6661\n",
            "Epoch 91/150\n",
            "15/15 [==============================] - 0s 2ms/step - loss: 0.6287 - accuracy: 0.6678\n",
            "Epoch 92/150\n",
            "15/15 [==============================] - 0s 2ms/step - loss: 0.6277 - accuracy: 0.6661\n",
            "Epoch 93/150\n",
            "15/15 [==============================] - 0s 2ms/step - loss: 0.6269 - accuracy: 0.6661\n",
            "Epoch 94/150\n",
            "15/15 [==============================] - 0s 3ms/step - loss: 0.6263 - accuracy: 0.6678\n",
            "Epoch 95/150\n",
            "15/15 [==============================] - 0s 2ms/step - loss: 0.6255 - accuracy: 0.6678\n",
            "Epoch 96/150\n",
            "15/15 [==============================] - 0s 2ms/step - loss: 0.6256 - accuracy: 0.6694\n",
            "Epoch 97/150\n",
            "15/15 [==============================] - 0s 2ms/step - loss: 0.6245 - accuracy: 0.6661\n",
            "Epoch 98/150\n",
            "15/15 [==============================] - 0s 2ms/step - loss: 0.6236 - accuracy: 0.6661\n",
            "Epoch 99/150\n",
            "15/15 [==============================] - 0s 2ms/step - loss: 0.6228 - accuracy: 0.6661\n",
            "Epoch 100/150\n",
            "15/15 [==============================] - 0s 2ms/step - loss: 0.6221 - accuracy: 0.6661\n",
            "Epoch 101/150\n",
            "15/15 [==============================] - 0s 3ms/step - loss: 0.6216 - accuracy: 0.6661\n",
            "Epoch 102/150\n",
            "15/15 [==============================] - 0s 3ms/step - loss: 0.6209 - accuracy: 0.6661\n",
            "Epoch 103/150\n",
            "15/15 [==============================] - 0s 2ms/step - loss: 0.6210 - accuracy: 0.6645\n",
            "Epoch 104/150\n",
            "15/15 [==============================] - 0s 2ms/step - loss: 0.6187 - accuracy: 0.6678\n",
            "Epoch 105/150\n",
            "15/15 [==============================] - 0s 2ms/step - loss: 0.6172 - accuracy: 0.6645\n",
            "Epoch 106/150\n",
            "15/15 [==============================] - 0s 3ms/step - loss: 0.6170 - accuracy: 0.6661\n",
            "Epoch 107/150\n",
            "15/15 [==============================] - 0s 2ms/step - loss: 0.6146 - accuracy: 0.6694\n",
            "Epoch 108/150\n",
            "15/15 [==============================] - 0s 2ms/step - loss: 0.6136 - accuracy: 0.6694\n",
            "Epoch 109/150\n",
            "15/15 [==============================] - 0s 3ms/step - loss: 0.6128 - accuracy: 0.6661\n",
            "Epoch 110/150\n",
            "15/15 [==============================] - 0s 2ms/step - loss: 0.6117 - accuracy: 0.6629\n",
            "Epoch 111/150\n",
            "15/15 [==============================] - 0s 3ms/step - loss: 0.6097 - accuracy: 0.6661\n",
            "Epoch 112/150\n",
            "15/15 [==============================] - 0s 2ms/step - loss: 0.6086 - accuracy: 0.6710\n",
            "Epoch 113/150\n",
            "15/15 [==============================] - 0s 3ms/step - loss: 0.6068 - accuracy: 0.6775\n",
            "Epoch 114/150\n",
            "15/15 [==============================] - 0s 2ms/step - loss: 0.6041 - accuracy: 0.6808\n",
            "Epoch 115/150\n",
            "15/15 [==============================] - 0s 2ms/step - loss: 0.6016 - accuracy: 0.6840\n",
            "Epoch 116/150\n",
            "15/15 [==============================] - 0s 2ms/step - loss: 0.6013 - accuracy: 0.6743\n",
            "Epoch 117/150\n",
            "15/15 [==============================] - 0s 2ms/step - loss: 0.5988 - accuracy: 0.6873\n",
            "Epoch 118/150\n",
            "15/15 [==============================] - 0s 2ms/step - loss: 0.5982 - accuracy: 0.7003\n",
            "Epoch 119/150\n",
            "15/15 [==============================] - 0s 2ms/step - loss: 0.5965 - accuracy: 0.6873\n",
            "Epoch 120/150\n",
            "15/15 [==============================] - 0s 3ms/step - loss: 0.5958 - accuracy: 0.6922\n",
            "Epoch 121/150\n",
            "15/15 [==============================] - 0s 2ms/step - loss: 0.5960 - accuracy: 0.7003\n",
            "Epoch 122/150\n",
            "15/15 [==============================] - 0s 2ms/step - loss: 0.5948 - accuracy: 0.6906\n",
            "Epoch 123/150\n",
            "15/15 [==============================] - 0s 2ms/step - loss: 0.5933 - accuracy: 0.7052\n",
            "Epoch 124/150\n",
            "15/15 [==============================] - 0s 3ms/step - loss: 0.5922 - accuracy: 0.6987\n",
            "Epoch 125/150\n",
            "15/15 [==============================] - 0s 2ms/step - loss: 0.5910 - accuracy: 0.6938\n",
            "Epoch 126/150\n",
            "15/15 [==============================] - 0s 2ms/step - loss: 0.5894 - accuracy: 0.6971\n",
            "Epoch 127/150\n",
            "15/15 [==============================] - 0s 2ms/step - loss: 0.5889 - accuracy: 0.6922\n",
            "Epoch 128/150\n",
            "15/15 [==============================] - 0s 3ms/step - loss: 0.5874 - accuracy: 0.6987\n",
            "Epoch 129/150\n",
            "15/15 [==============================] - 0s 3ms/step - loss: 0.5859 - accuracy: 0.7003\n",
            "Epoch 130/150\n",
            "15/15 [==============================] - 0s 2ms/step - loss: 0.5856 - accuracy: 0.6954\n",
            "Epoch 131/150\n",
            "15/15 [==============================] - 0s 3ms/step - loss: 0.5845 - accuracy: 0.7117\n",
            "Epoch 132/150\n",
            "15/15 [==============================] - 0s 2ms/step - loss: 0.5847 - accuracy: 0.6987\n",
            "Epoch 133/150\n",
            "15/15 [==============================] - 0s 2ms/step - loss: 0.5875 - accuracy: 0.7085\n",
            "Epoch 134/150\n",
            "15/15 [==============================] - 0s 2ms/step - loss: 0.5837 - accuracy: 0.7020\n",
            "Epoch 135/150\n",
            "15/15 [==============================] - 0s 2ms/step - loss: 0.5838 - accuracy: 0.7182\n",
            "Epoch 136/150\n",
            "15/15 [==============================] - 0s 2ms/step - loss: 0.5829 - accuracy: 0.7068\n",
            "Epoch 137/150\n",
            "15/15 [==============================] - 0s 3ms/step - loss: 0.5769 - accuracy: 0.7199\n",
            "Epoch 138/150\n",
            "15/15 [==============================] - 0s 2ms/step - loss: 0.5777 - accuracy: 0.7231\n",
            "Epoch 139/150\n",
            "15/15 [==============================] - 0s 3ms/step - loss: 0.5769 - accuracy: 0.7199\n",
            "Epoch 140/150\n",
            "15/15 [==============================] - 0s 2ms/step - loss: 0.5764 - accuracy: 0.7101\n",
            "Epoch 141/150\n",
            "15/15 [==============================] - 0s 3ms/step - loss: 0.5752 - accuracy: 0.7166\n",
            "Epoch 142/150\n",
            "15/15 [==============================] - 0s 2ms/step - loss: 0.5745 - accuracy: 0.7134\n",
            "Epoch 143/150\n",
            "15/15 [==============================] - 0s 3ms/step - loss: 0.5744 - accuracy: 0.7134\n",
            "Epoch 144/150\n",
            "15/15 [==============================] - 0s 2ms/step - loss: 0.5737 - accuracy: 0.7248\n",
            "Epoch 145/150\n",
            "15/15 [==============================] - 0s 2ms/step - loss: 0.5720 - accuracy: 0.7150\n",
            "Epoch 146/150\n",
            "15/15 [==============================] - 0s 2ms/step - loss: 0.5696 - accuracy: 0.7215\n",
            "Epoch 147/150\n",
            "15/15 [==============================] - 0s 2ms/step - loss: 0.5703 - accuracy: 0.7166\n",
            "Epoch 148/150\n",
            "15/15 [==============================] - 0s 2ms/step - loss: 0.5672 - accuracy: 0.7248\n",
            "Epoch 149/150\n",
            "15/15 [==============================] - 0s 2ms/step - loss: 0.5657 - accuracy: 0.7231\n",
            "Epoch 150/150\n",
            "15/15 [==============================] - 0s 3ms/step - loss: 0.5701 - accuracy: 0.7150\n"
          ]
        },
        {
          "output_type": "execute_result",
          "data": {
            "text/plain": [
              "<keras.src.callbacks.History at 0x7c0fdcbfacb0>"
            ]
          },
          "metadata": {},
          "execution_count": 17
        }
      ],
      "source": [
        "model.fit(xtrain,ytrain,epochs=150,batch_size=43)"
      ]
    },
    {
      "cell_type": "code",
      "execution_count": 18,
      "metadata": {
        "colab": {
          "base_uri": "https://localhost:8080/"
        },
        "id": "cslb0FkUJP-x",
        "outputId": "a63652fc-1515-44e7-9670-5581b3b9f60b"
      },
      "outputs": [
        {
          "output_type": "stream",
          "name": "stdout",
          "text": [
            "5/5 [==============================] - 0s 5ms/step - loss: 0.5590 - accuracy: 0.7468\n",
            "Accuracy score for Test Data : 0.7467532753944397\n"
          ]
        }
      ],
      "source": [
        "_,acc=model.evaluate(xtest,ytest)\n",
        "print('Accuracy score for Test Data :',acc)"
      ]
    },
    {
      "cell_type": "code",
      "execution_count": 18,
      "metadata": {
        "id": "DlCP4TEKJP-x"
      },
      "outputs": [],
      "source": []
    }
  ],
  "metadata": {
    "kernelspec": {
      "display_name": "Python 3",
      "language": "python",
      "name": "python3"
    },
    "language_info": {
      "codemirror_mode": {
        "name": "ipython",
        "version": 3
      },
      "file_extension": ".py",
      "mimetype": "text/x-python",
      "name": "python",
      "nbconvert_exporter": "python",
      "pygments_lexer": "ipython3",
      "version": "3.6.10"
    },
    "colab": {
      "provenance": [],
      "toc_visible": true,
      "include_colab_link": true
    }
  },
  "nbformat": 4,
  "nbformat_minor": 0
}